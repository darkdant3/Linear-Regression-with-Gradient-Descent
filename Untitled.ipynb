{
 "cells": [
  {
   "cell_type": "code",
   "execution_count": 1,
   "metadata": {
    "collapsed": true
   },
   "outputs": [],
   "source": [
    "import numpy as np"
   ]
  },
  {
   "cell_type": "code",
   "execution_count": 3,
   "metadata": {
    "collapsed": false
   },
   "outputs": [],
   "source": [
    "data = np.genfromtxt('input2.csv', delimiter=',')"
   ]
  },
  {
   "cell_type": "code",
   "execution_count": 10,
   "metadata": {
    "collapsed": false
   },
   "outputs": [
    {
     "data": {
      "text/plain": [
       "4.338505866666666"
      ]
     },
     "execution_count": 10,
     "metadata": {},
     "output_type": "execute_result"
    }
   ],
   "source": [
    "data[0].mean()\n"
   ]
  },
  {
   "cell_type": "code",
   "execution_count": 11,
   "metadata": {
    "collapsed": false
   },
   "outputs": [
    {
     "data": {
      "text/plain": [
       "5.3452013666666653"
      ]
     },
     "execution_count": 11,
     "metadata": {},
     "output_type": "execute_result"
    }
   ],
   "source": [
    "data[1].mean()"
   ]
  },
  {
   "cell_type": "code",
   "execution_count": 13,
   "metadata": {
    "collapsed": false
   },
   "outputs": [
    {
     "data": {
      "text/plain": [
       "array([[  2.       ,  10.21027  ,   0.8052476],\n",
       "       [  2.04     ,  13.07613  ,   0.9194741],\n",
       "       [  2.13     ,  11.44697  ,   0.9083505],\n",
       "       [  2.21     ,  14.43984  ,   0.8037555],\n",
       "       [  2.29     ,  12.59622  ,   0.811357 ],\n",
       "       [  2.38     ,  10.5199   ,   0.9489974],\n",
       "       [  2.46     ,  12.89517  ,   0.9664505],\n",
       "       [  2.54     ,  12.11692  ,   0.9288403],\n",
       "       [  2.63     ,  16.76085  ,   0.86205  ],\n",
       "       [  2.71     ,  11.20934  ,   0.9811632],\n",
       "       [  2.79     ,  13.48913  ,   0.9883778],\n",
       "       [  2.88     ,  11.85574  ,   1.004748 ],\n",
       "       [  2.96     ,  11.54332  ,   1.001915 ],\n",
       "       [  3.04     ,  12.90222  ,   0.9934899],\n",
       "       [  3.13     ,  13.03542  ,   0.8974875],\n",
       "       [  3.21     ,  11.88202  ,   0.8887256],\n",
       "       [  3.29     ,  11.99685  ,   0.932307 ],\n",
       "       [  3.38     ,  11.82981  ,   0.937784 ],\n",
       "       [  3.46     ,  12.70158  ,   1.05032  ],\n",
       "       [  3.54     ,  19.58748  ,   1.056727 ],\n",
       "       [  3.63     ,  16.46093  ,   0.9821247],\n",
       "       [  3.71     ,  15.20721  ,   0.91031  ],\n",
       "       [  3.79     ,  15.37263  ,   1.065316 ],\n",
       "       [  3.88     ,  14.29485  ,   1.02835  ],\n",
       "       [  3.96     ,  13.47689  ,   0.9255748],\n",
       "       [  4.04     ,  13.61116  ,   0.9306862],\n",
       "       [  4.13     ,  13.21864  ,   1.101614 ],\n",
       "       [  4.21     ,  13.02441  ,   0.9921132],\n",
       "       [  4.29     ,  18.04961  ,   1.114548 ],\n",
       "       [  4.38     ,  18.25533  ,   1.063936 ],\n",
       "       [  4.46     ,  13.40907  ,   1.008634 ],\n",
       "       [  4.54     ,  15.51193  ,   1.044635 ],\n",
       "       [  4.63     ,  15.66975  ,   1.140624 ],\n",
       "       [  4.71     ,  17.28859  ,   0.9824303],\n",
       "       [  4.79     ,  14.29081  ,   1.062029 ],\n",
       "       [  4.88     ,  21.63373  ,   1.100134 ],\n",
       "       [  4.96     ,  14.20687  ,   1.166945 ],\n",
       "       [  5.04     ,  14.34277  ,   1.161301 ],\n",
       "       [  5.13     ,  20.16834  ,   1.009289 ],\n",
       "       [  5.21     ,  25.58315  ,   1.091316 ],\n",
       "       [  5.29     ,  18.58571  ,   1.097202 ],\n",
       "       [  5.38     ,  14.8925   ,   1.025529 ],\n",
       "       [  5.46     ,  16.06749  ,   1.076194 ],\n",
       "       [  5.54     ,  15.56413  ,   1.114876 ],\n",
       "       [  5.63     ,  25.83467  ,   1.187193 ],\n",
       "       [  5.71     ,  17.81035  ,   1.09323  ],\n",
       "       [  5.79     ,  15.58975  ,   1.069648 ],\n",
       "       [  5.88     ,  16.83304  ,   1.173466 ],\n",
       "       [  5.96     ,  15.87089  ,   1.232684 ],\n",
       "       [  6.04     ,  16.43608  ,   1.057615 ],\n",
       "       [  6.13     ,  22.90029  ,   1.245461 ],\n",
       "       [  6.21     ,  28.0358   ,   1.251804 ],\n",
       "       [  6.29     ,  29.97981  ,   1.167406 ],\n",
       "       [  6.38     ,  26.52102  ,   1.089877 ],\n",
       "       [  6.46     ,  21.35797  ,   1.215447 ],\n",
       "       [  6.54     ,  17.3225   ,   1.118232 ],\n",
       "       [  6.63     ,  29.70296  ,   1.123483 ],\n",
       "       [  6.71     ,  30.04782  ,   1.110545 ],\n",
       "       [  6.79     ,  20.11027  ,   1.309295 ],\n",
       "       [  6.88     ,  18.73445  ,   1.108909 ],\n",
       "       [  6.96     ,  22.64564  ,   1.175754 ],\n",
       "       [  7.04     ,  18.22805  ,   1.149112 ],\n",
       "       [  7.13     ,  18.38153  ,   1.135427 ],\n",
       "       [  7.21     ,  32.20984  ,   1.339077 ],\n",
       "       [  7.29     ,  18.16912  ,   1.330256 ],\n",
       "       [  7.38     ,  19.73432  ,   1.313696 ],\n",
       "       [  7.46     ,  19.00511  ,   1.173512 ],\n",
       "       [  7.54     ,  27.35114  ,   1.159026 ],\n",
       "       [  7.63     ,  22.04564  ,   1.367356 ],\n",
       "       [  7.71     ,  19.48502  ,   1.168069 ],\n",
       "       [  7.79     ,  19.64775  ,   1.263869 ],\n",
       "       [  7.88     ,  19.23024  ,   1.368565 ],\n",
       "       [  7.96     ,  20.96755  ,   1.388876 ],\n",
       "       [  8.04     ,  33.19435  ,   1.318567 ],\n",
       "       [  8.13     ,  20.31464  ,   1.384097 ],\n",
       "       [  8.21     ,  29.81185  ,   1.213855 ],\n",
       "       [  8.29     ,  20.65887  ,   1.218047 ],\n",
       "       [  8.38     ,  26.82559  ,   1.414521 ],\n",
       "       [  8.46     ,  40.94614  ,   1.301148 ]])"
      ]
     },
     "execution_count": 13,
     "metadata": {},
     "output_type": "execute_result"
    }
   ],
   "source": [
    "data"
   ]
  },
  {
   "cell_type": "code",
   "execution_count": 14,
   "metadata": {
    "collapsed": true
   },
   "outputs": [],
   "source": [
    "import matplotlib.pyplot as plt"
   ]
  },
  {
   "cell_type": "code",
   "execution_count": 21,
   "metadata": {
    "collapsed": true
   },
   "outputs": [],
   "source": [
    "fig, ax = plt.subplots()"
   ]
  },
  {
   "cell_type": "code",
   "execution_count": 22,
   "metadata": {
    "collapsed": false
   },
   "outputs": [
    {
     "data": {
      "text/plain": [
       "<matplotlib.collections.PathCollection at 0x105d399d0>"
      ]
     },
     "execution_count": 22,
     "metadata": {},
     "output_type": "execute_result"
    }
   ],
   "source": [
    "ax.scatter(data[:,0], data[:,2], marker='+')"
   ]
  },
  {
   "cell_type": "code",
   "execution_count": 23,
   "metadata": {
    "collapsed": false
   },
   "outputs": [
    {
     "data": {
      "text/plain": [
       "<matplotlib.collections.PathCollection at 0x105ee4590>"
      ]
     },
     "execution_count": 23,
     "metadata": {},
     "output_type": "execute_result"
    }
   ],
   "source": [
    "ax.scatter(data[:,1], data[:,2], marker='o')"
   ]
  },
  {
   "cell_type": "code",
   "execution_count": 24,
   "metadata": {
    "collapsed": false
   },
   "outputs": [
    {
     "data": {
      "text/plain": [
       "<matplotlib.text.Text at 0x105e01710>"
      ]
     },
     "execution_count": 24,
     "metadata": {},
     "output_type": "execute_result"
    }
   ],
   "source": [
    "ax.set_xlabel('Age & Weight')"
   ]
  },
  {
   "cell_type": "code",
   "execution_count": 25,
   "metadata": {
    "collapsed": false
   },
   "outputs": [
    {
     "data": {
      "text/plain": [
       "<matplotlib.text.Text at 0x105f070d0>"
      ]
     },
     "execution_count": 25,
     "metadata": {},
     "output_type": "execute_result"
    }
   ],
   "source": [
    "ax.set_ylabel('Height')"
   ]
  },
  {
   "cell_type": "code",
   "execution_count": 26,
   "metadata": {
    "collapsed": false
   },
   "outputs": [
    {
     "data": {
      "image/png": "[encoded data removed]",
      "text/plain": [
       "<matplotlib.figure.Figure at 0x105e95d10>"
      ]
     },
     "metadata": {},
     "output_type": "display_data"
    }
   ],
   "source": [
    "plt.show()"
   ]
  },
  {
   "cell_type": "code",
   "execution_count": 27,
   "metadata": {
    "collapsed": false
   },
   "outputs": [
    {
     "data": {
      "text/plain": [
       "5.2105063291139233"
      ]
     },
     "execution_count": 27,
     "metadata": {},
     "output_type": "execute_result"
    }
   ],
   "source": [
    "data[:,0].mean()"
   ]
  },
  {
   "cell_type": "code",
   "execution_count": 28,
   "metadata": {
    "collapsed": false
   },
   "outputs": [
    {
     "data": {
      "text/plain": [
       "18.306604303797467"
      ]
     },
     "execution_count": 28,
     "metadata": {},
     "output_type": "execute_result"
    }
   ],
   "source": [
    "data[:,1].mean()"
   ]
  },
  {
   "cell_type": "code",
   "execution_count": 29,
   "metadata": {
    "collapsed": true
   },
   "outputs": [],
   "source": [
    "age_mean = data[:,0].mean()"
   ]
  },
  {
   "cell_type": "code",
   "execution_count": 32,
   "metadata": {
    "collapsed": true
   },
   "outputs": [],
   "source": [
    "age_std = data[:, 0].std()"
   ]
  },
  {
   "cell_type": "code",
   "execution_count": 33,
   "metadata": {
    "collapsed": false
   },
   "outputs": [
    {
     "data": {
      "text/plain": [
       "(5.2105063291139233, 1.8994815406783148)"
      ]
     },
     "execution_count": 33,
     "metadata": {},
     "output_type": "execute_result"
    }
   ],
   "source": [
    "age_mean, age_std "
   ]
  },
  {
   "cell_type": "code",
   "execution_count": 34,
   "metadata": {
    "collapsed": true
   },
   "outputs": [],
   "source": [
    "weight_mean = data[:,1].mean()"
   ]
  },
  {
   "cell_type": "code",
   "execution_count": 35,
   "metadata": {
    "collapsed": true
   },
   "outputs": [],
   "source": [
    "weight_std  = data[:, 1].std()"
   ]
  },
  {
   "cell_type": "code",
   "execution_count": 36,
   "metadata": {
    "collapsed": false
   },
   "outputs": [
    {
     "data": {
      "text/plain": [
       "(5.2105063291139233,\n",
       " 18.306604303797467,\n",
       " 1.8994815406783148,\n",
       " 6.1174539430307933)"
      ]
     },
     "execution_count": 36,
     "metadata": {},
     "output_type": "execute_result"
    }
   ],
   "source": [
    "age_mean, weight_mean, age_std, weight_std"
   ]
  },
  {
   "cell_type": "code",
   "execution_count": 37,
   "metadata": {
    "collapsed": true
   },
   "outputs": [],
   "source": [
    "def scale_feature(x, std, mean):\n",
    "    ''' '''\n",
    "    return (x - mean)/std\n",
    "    "
   ]
  },
  {
   "cell_type": "code",
   "execution_count": 42,
   "metadata": {
    "collapsed": false
   },
   "outputs": [],
   "source": [
    "fx = np.vectorize(scale_feature)"
   ]
  },
  {
   "cell_type": "code",
   "execution_count": 63,
   "metadata": {
    "collapsed": false
   },
   "outputs": [],
   "source": [
    "scaled_X = np.zeros((data.shape[0], 2))"
   ]
  },
  {
   "cell_type": "code",
   "execution_count": 75,
   "metadata": {
    "collapsed": true
   },
   "outputs": [],
   "source": [
    "for i in range(0,2):\n",
    "    std = data[:,i].std()\n",
    "    mean = data[:,i].mean()\n",
    "    scaled_X[:,i] = fx(data[:,i], std, mean)\n",
    "    \n",
    "    \n",
    "    \n"
   ]
  },
  {
   "cell_type": "code",
   "execution_count": 76,
   "metadata": {
    "collapsed": true
   },
   "outputs": [],
   "source": [
    "from mpl_toolkits.mplot3d import Axes3D\n"
   ]
  },
  {
   "cell_type": "code",
   "execution_count": 85,
   "metadata": {
    "collapsed": true
   },
   "outputs": [],
   "source": [
    "fig = plt.figure()\n"
   ]
  },
  {
   "cell_type": "code",
   "execution_count": 86,
   "metadata": {
    "collapsed": true
   },
   "outputs": [],
   "source": [
    "ax = fig.add_subplot(111, projection='3d')\n"
   ]
  },
  {
   "cell_type": "code",
   "execution_count": 87,
   "metadata": {
    "collapsed": false
   },
   "outputs": [
    {
     "data": {
      "text/plain": [
       "<mpl_toolkits.mplot3d.art3d.Path3DCollection at 0x109ed5d50>"
      ]
     },
     "execution_count": 87,
     "metadata": {},
     "output_type": "execute_result"
    }
   ],
   "source": [
    "ax.scatter(data[:,0], data[:,1], zs=data[:,2], zdir='z')"
   ]
  },
  {
   "cell_type": "code",
   "execution_count": 88,
   "metadata": {
    "collapsed": false
   },
   "outputs": [
    {
     "data": {
      "text/plain": [
       "<matplotlib.text.Text at 0x109dca050>"
      ]
     },
     "execution_count": 88,
     "metadata": {},
     "output_type": "execute_result"
    }
   ],
   "source": [
    "ax.set_xlabel('Age(Years)')"
   ]
  },
  {
   "cell_type": "code",
   "execution_count": 89,
   "metadata": {
    "collapsed": false
   },
   "outputs": [
    {
     "data": {
      "text/plain": [
       "<matplotlib.text.Text at 0x109d4d4d0>"
      ]
     },
     "execution_count": 89,
     "metadata": {},
     "output_type": "execute_result"
    }
   ],
   "source": [
    "ax.set_ylabel('Weight(Kilograms)')"
   ]
  },
  {
   "cell_type": "code",
   "execution_count": 90,
   "metadata": {
    "collapsed": false
   },
   "outputs": [
    {
     "data": {
      "text/plain": [
       "<matplotlib.text.Text at 0x109dfbfd0>"
      ]
     },
     "execution_count": 90,
     "metadata": {},
     "output_type": "execute_result"
    }
   ],
   "source": [
    "ax.set_zlabel('Height(Meters)')"
   ]
  },
  {
   "cell_type": "code",
   "execution_count": 94,
   "metadata": {
    "collapsed": false
   },
   "outputs": [],
   "source": [
    "plt.show()"
   ]
  },
  {
   "cell_type": "code",
   "execution_count": null,
   "metadata": {
    "collapsed": true
   },
   "outputs": [],
   "source": [
    "np.isclose()"
   ]
  },
  {
   "cell_type": "code",
   "execution_count": 92,
   "metadata": {
    "collapsed": true
   },
   "outputs": [],
   "source": [
    "from problem2 import LinearRegression"
   ]
  },
  {
   "cell_type": "code",
   "execution_count": 93,
   "metadata": {
    "collapsed": true
   },
   "outputs": [],
   "source": [
    "lm = LinearRegression()"
   ]
  },
  {
   "cell_type": "code",
   "execution_count": null,
   "metadata": {
    "collapsed": true
   },
   "outputs": [],
   "source": []
  },
  {
   "cell_type": "code",
   "execution_count": null,
   "metadata": {
    "collapsed": true
   },
   "outputs": [],
   "source": []
  }
 ],
 "metadata": {
  "kernelspec": {
   "display_name": "Python 2",
   "language": "python",
   "name": "python2"
  },
  "language_info": {
   "codemirror_mode": {
    "name": "ipython",
    "version": 2
   },
   "file_extension": ".py",
   "mimetype": "text/x-python",
   "name": "python",
   "nbconvert_exporter": "python",
   "pygments_lexer": "ipython2",
   "version": "2.7.11"
  }
 },
 "nbformat": 4,
 "nbformat_minor": 2
}
